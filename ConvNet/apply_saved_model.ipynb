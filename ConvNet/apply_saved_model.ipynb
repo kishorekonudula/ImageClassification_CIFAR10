{
 "cells": [
  {
   "cell_type": "markdown",
   "metadata": {},
   "source": [
    "Load the saved model. Randomly draw a subset of images and apply the trained model.  \n",
    "When CIFAR-10 data is loaded from keras, the images are automatically shuffled and split into train and test sets.  \n",
    "   The subset of images drawn could be a part of the trained model. A higher accuracy may be expected.   \n",
    "\n",
    "Notebook for model training: `cnn_modeling.ipynb`"
   ]
  },
  {
   "cell_type": "code",
   "execution_count": 11,
   "metadata": {
    "collapsed": false
   },
   "outputs": [],
   "source": [
    "import keras\n",
    "from keras.datasets import cifar10\n",
    "from keras.models import load_model"
   ]
  },
  {
   "cell_type": "code",
   "execution_count": 12,
   "metadata": {
    "collapsed": true
   },
   "outputs": [],
   "source": [
    "import os\n",
    "from os import path\n",
    "import sys\n",
    "from sklearn.model_selection import train_test_split"
   ]
  },
  {
   "cell_type": "code",
   "execution_count": 18,
   "metadata": {
    "collapsed": true
   },
   "outputs": [],
   "source": [
    "base_dir = \"~/ConvNet/\""
   ]
  },
  {
   "cell_type": "code",
   "execution_count": 19,
   "metadata": {
    "collapsed": false
   },
   "outputs": [],
   "source": [
    "model_path = base_dir+\"ModelInfo/\"\n",
    "model = load_model(model_path+'model_1.h5')"
   ]
  },
  {
   "cell_type": "code",
   "execution_count": 20,
   "metadata": {
    "collapsed": false
   },
   "outputs": [],
   "source": [
    "def scaleData(data_array):\n",
    "    data_array = data_array.astype('float32')\n",
    "    data_array /= 255.\n",
    "    return data_array"
   ]
  },
  {
   "cell_type": "code",
   "execution_count": 22,
   "metadata": {
    "collapsed": false
   },
   "outputs": [
    {
     "name": "stdout",
     "output_type": "stream",
     "text": [
      "Run 1     Accuracy on test: 0.9065\n",
      "Run 2     Accuracy on test: 0.9079\n",
      "Run 3     Accuracy on test: 0.9032\n",
      "Run 4     Accuracy on test: 0.909\n",
      "Run 5     Accuracy on test: 0.9148\n",
      "Run 6     Accuracy on test: 0.9091\n",
      "Run 7     Accuracy on test: 0.9021\n",
      "Run 8     Accuracy on test: 0.9068\n",
      "Run 9     Accuracy on test: 0.9115\n",
      "Run 10     Accuracy on test: 0.9072\n"
     ]
    }
   ],
   "source": [
    "for i in range(0, 10):\n",
    "    (xx_train, yy_train), (x_test, y_test) = cifar10.load_data()\n",
    "    \n",
    "    yy_train = keras.utils.to_categorical(yy_train, num_classes=10) \n",
    "    \n",
    "    xx_train = scaleData(xx_train)\n",
    "    x_test = scaleData(x_test)\n",
    "    \n",
    "    #x_train, x_val, y_train, y_val = train_test_split(xx_train, yy_train, test_size=0.1, random_state=42)\n",
    "    x_train, x_test, y_train, y_test = train_test_split(xx_train, yy_train, test_size=0.2)\n",
    "    \n",
    "    acc_score = model.evaluate(x_test, y_test, verbose=0)\n",
    "    print(\"Run\", i+1,\"   \", \"Accuracy on test:\", round(acc_score[1], 5))"
   ]
  },
  {
   "cell_type": "code",
   "execution_count": null,
   "metadata": {
    "collapsed": true
   },
   "outputs": [],
   "source": []
  }
 ],
 "metadata": {
  "kernelspec": {
   "display_name": "Python 3",
   "language": "python",
   "name": "python3"
  },
  "language_info": {
   "codemirror_mode": {
    "name": "ipython",
    "version": 3
   },
   "file_extension": ".py",
   "mimetype": "text/x-python",
   "name": "python",
   "nbconvert_exporter": "python",
   "pygments_lexer": "ipython3",
   "version": "3.6.0"
  },
  "latex_envs": {
   "LaTeX_envs_menu_present": true,
   "autocomplete": true,
   "bibliofile": "biblio.bib",
   "cite_by": "apalike",
   "current_citInitial": 1,
   "eqLabelWithNumbers": true,
   "eqNumInitial": 1,
   "hotkeys": {
    "equation": "Ctrl-E",
    "itemize": "Ctrl-I"
   },
   "labels_anchors": false,
   "latex_user_defs": false,
   "report_style_numbering": false,
   "user_envs_cfg": false
  }
 },
 "nbformat": 4,
 "nbformat_minor": 2
}
