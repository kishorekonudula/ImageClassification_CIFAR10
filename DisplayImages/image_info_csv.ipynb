{
 "cells": [
  {
   "cell_type": "code",
   "execution_count": null,
   "metadata": {
    "collapsed": true
   },
   "outputs": [],
   "source": [
    "\"\"\"\n",
    "store image id, class label, class name and dir location in a csv file\n",
    "\"\"\""
   ]
  },
  {
   "cell_type": "code",
   "execution_count": 10,
   "metadata": {
    "collapsed": true
   },
   "outputs": [],
   "source": [
    "import csv\n",
    "import pandas as pd\n",
    "import numpy as np\n",
    "import pickle"
   ]
  },
  {
   "cell_type": "code",
   "execution_count": 11,
   "metadata": {
    "collapsed": true
   },
   "outputs": [],
   "source": [
    "def pickleSomething(data, path, pickle_filename):\n",
    "    with open(path+pickle_filename, 'wb') as p:\n",
    "        pickled = pickle.dump(data, p)\n",
    "    return pickled\n",
    "\n",
    "def unpickleSomething(path, pickle_filename):\n",
    "    with open(path+pickle_filename, 'rb') as p: \n",
    "        unpickled = pickle.load(p)\n",
    "        return unpickled"
   ]
  },
  {
   "cell_type": "code",
   "execution_count": 12,
   "metadata": {
    "collapsed": false
   },
   "outputs": [],
   "source": [
    "pickle_path = \"~/CIFAR_10/ImageData/\""
   ]
  },
  {
   "cell_type": "code",
   "execution_count": 13,
   "metadata": {
    "collapsed": false
   },
   "outputs": [],
   "source": [
    "all_train = unpickleSomething(pickle_path, \"img_train.p\")\n",
    "all_train_labels = unpickleSomething(pickle_path, \"label_train.p\")"
   ]
  },
  {
   "cell_type": "code",
   "execution_count": 14,
   "metadata": {
    "collapsed": false
   },
   "outputs": [
    {
     "data": {
      "text/plain": [
       "50000"
      ]
     },
     "execution_count": 14,
     "metadata": {},
     "output_type": "execute_result"
    }
   ],
   "source": [
    "all_train.shape[0]"
   ]
  },
  {
   "cell_type": "code",
   "execution_count": 15,
   "metadata": {
    "collapsed": false
   },
   "outputs": [
    {
     "data": {
      "text/plain": [
       "(50000,)"
      ]
     },
     "execution_count": 15,
     "metadata": {},
     "output_type": "execute_result"
    }
   ],
   "source": [
    "all_train_labels.shape"
   ]
  },
  {
   "cell_type": "code",
   "execution_count": 16,
   "metadata": {
    "collapsed": false
   },
   "outputs": [
    {
     "name": "stdout",
     "output_type": "stream",
     "text": [
      "{0: 'plane', 1: 'car', 2: 'bird', 3: 'cat', 4: 'deer', 5: 'dog', 6: 'frog', 7: 'horse', 8: 'ship', 9: 'truck'}\n"
     ]
    }
   ],
   "source": [
    "classes = ['plane', 'car', 'bird', 'cat', 'deer', 'dog', 'frog', 'horse', 'ship', 'truck']\n",
    "\n",
    "class_labels = {}\n",
    "for i in range(0, len(classes)):\n",
    "    class_labels[i] = classes[i]\n",
    "\n",
    "print(class_labels)"
   ]
  },
  {
   "cell_type": "code",
   "execution_count": 17,
   "metadata": {
    "collapsed": false
   },
   "outputs": [],
   "source": [
    "def writeCSV(path_name, file_name, batch_trn, batch_labels, batch):\n",
    "    with open(path_name+\"/\"+file_name+\".csv\", \"w\") as f:\n",
    "        headers = \"ID, Path, Set, ClassID, ClassName\\n\"\n",
    "        f.write(headers)\n",
    "        for row in range(batch_trn.shape[0]): \n",
    "            index_start = batch*10000\n",
    "            line = str(row+1+index_start)+\",\"+path_name+\",\"+\"train\"+\",\"+str(batch_labels[row])+\",\"+str(class_labels[batch_labels[row]])\n",
    "            f.write(line)\n",
    "            f.write(\"\\n\")"
   ]
  },
  {
   "cell_type": "code",
   "execution_count": 21,
   "metadata": {
    "collapsed": false
   },
   "outputs": [
    {
     "name": "stderr",
     "output_type": "stream",
     "text": [
      "/Users/susmitadatta/anaconda/lib/python3.6/site-packages/ipykernel/__main__.py:7: VisibleDeprecationWarning: using a non-integer number instead of an integer will result in an error in the future\n",
      "/Users/susmitadatta/anaconda/lib/python3.6/site-packages/ipykernel/__main__.py:8: VisibleDeprecationWarning: using a non-integer number instead of an integer will result in an error in the future\n"
     ]
    }
   ],
   "source": [
    "split = all_train.shape[0]/5\n",
    "for i in range(5):\n",
    "    batch = i\n",
    "    start_index = i*split\n",
    "    end_index = start_index+split\n",
    "    \n",
    "    batch_trn = all_train[start_index:end_index,:, : , :]\n",
    "    batch_labels = all_train_labels[start_index:end_index]\n",
    "    \n",
    "    path_name = \"Trn_{}\".format(int(i+1))\n",
    "    file_name = \"img_batch_{}\".format(int(i+1))\n",
    "    \n",
    "    path = \"/Users/susmitadatta/Metis/Proj03/Visualization/\"+path_name+\"/\"\n",
    "    \n",
    "    pickle_filename = file_name+'.p'\n",
    "    pickleSomething(batch_trn, path, pickle_filename)\n",
    "    \n",
    "    writeCSV(path_name, file_name, batch_trn, batch_labels, batch)"
   ]
  },
  {
   "cell_type": "markdown",
   "metadata": {
    "collapsed": true
   },
   "source": [
    "### Test images"
   ]
  },
  {
   "cell_type": "code",
   "execution_count": null,
   "metadata": {
    "collapsed": true
   },
   "outputs": [],
   "source": [
    "all_test = unpickleSomething(pickle_path, \"img_test.p\")\n",
    "all_test_labels = unpickleSomething(pickle_path, \"label_test.p\")"
   ]
  },
  {
   "cell_type": "code",
   "execution_count": null,
   "metadata": {
    "collapsed": true
   },
   "outputs": [],
   "source": [
    "test_path = \"/Users/susmitadatta/Metis/Proj03/SQL/ImageInfo/Test/\"\n",
    "with open(test_path+\"img_test.csv\", \"w\") as f:\n",
    "        headers = \"ID, Path, Set, ClassID, ClassName\\n\"\n",
    "        f.write(headers)\n",
    "        for row in range(all_test.shape[0]): \n",
    "            line = str(row+1)+\",\"+\"Test\"+\",\"+\"test\"+\",\"+str(all_test_labels[row])+\",\"+str(class_labels[all_test_labels[row]])\n",
    "            f.write(line)\n",
    "            f.write(\"\\n\")"
   ]
  }
 ],
 "metadata": {
  "kernelspec": {
   "display_name": "Python 3",
   "language": "python",
   "name": "python3"
  },
  "language_info": {
   "codemirror_mode": {
    "name": "ipython",
    "version": 3
   },
   "file_extension": ".py",
   "mimetype": "text/x-python",
   "name": "python",
   "nbconvert_exporter": "python",
   "pygments_lexer": "ipython3",
   "version": "3.6.0"
  },
  "latex_envs": {
   "LaTeX_envs_menu_present": true,
   "autocomplete": true,
   "bibliofile": "biblio.bib",
   "cite_by": "apalike",
   "current_citInitial": 1,
   "eqLabelWithNumbers": true,
   "eqNumInitial": 1,
   "hotkeys": {
    "equation": "Ctrl-E",
    "itemize": "Ctrl-I"
   },
   "labels_anchors": false,
   "latex_user_defs": false,
   "report_style_numbering": false,
   "user_envs_cfg": false
  }
 },
 "nbformat": 4,
 "nbformat_minor": 2
}
