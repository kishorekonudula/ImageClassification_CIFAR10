{
 "cells": [
  {
   "cell_type": "code",
   "execution_count": 9,
   "metadata": {
    "collapsed": true
   },
   "outputs": [],
   "source": [
    "from os import path\n",
    "import sys\n",
    "import numpy as np\n",
    "\n",
    "sys.path.append(path.abspath('~/CIFAR_10/'))\n",
    "import data_transform_module as dtm"
   ]
  },
  {
   "cell_type": "code",
   "execution_count": 10,
   "metadata": {
    "collapsed": true
   },
   "outputs": [],
   "source": [
    "from sklearn.neighbors import KNeighborsClassifier\n",
    "from sklearn import metrics"
   ]
  },
  {
   "cell_type": "code",
   "execution_count": 11,
   "metadata": {
    "collapsed": true
   },
   "outputs": [],
   "source": [
    "# path where features are stored as pickle files \n",
    "feature_path = \"~/CIFAR_10/Features/ImageFeatures/\""
   ]
  },
  {
   "cell_type": "code",
   "execution_count": 12,
   "metadata": {
    "collapsed": false
   },
   "outputs": [],
   "source": [
    "# training features PCA 10\n",
    "Xtrn = dtm.unpickleSomething(feature_path, 'trn_pca75.p')"
   ]
  },
  {
   "cell_type": "code",
   "execution_count": 13,
   "metadata": {
    "collapsed": false
   },
   "outputs": [],
   "source": [
    "# test image data\n",
    "Xtest = dtm.unpickleSomething(feature_path, 'test_pca75.p')"
   ]
  },
  {
   "cell_type": "code",
   "execution_count": 14,
   "metadata": {
    "collapsed": true
   },
   "outputs": [],
   "source": [
    "# training labels\n",
    "ytrn = dtm.unpickleSomething('~/CIFAR_10/ImageData/', \n",
    "                                'label_train.p')"
   ]
  },
  {
   "cell_type": "code",
   "execution_count": 15,
   "metadata": {
    "collapsed": true
   },
   "outputs": [],
   "source": [
    "# test labels\n",
    "ytest = dtm.unpickleSomething('~/CIFAR_10/ImageData/', \n",
    "                                'label_test.p')"
   ]
  },
  {
   "cell_type": "code",
   "execution_count": 16,
   "metadata": {
    "collapsed": false
   },
   "outputs": [
    {
     "name": "stdout",
     "output_type": "stream",
     "text": [
      "{10: 0.20930000000000001, 20: 0.22120000000000001, 50: 0.2243, 100: 0.22620000000000001, 200: 0.2266}\n"
     ]
    }
   ],
   "source": [
    "k_scores = {}\n",
    "k = 10\n",
    "knn = KNeighborsClassifier(n_neighbors=k)\n",
    "knn.fit(Xtrn, ytrn)\n",
    "y_pred = knn.predict(Xtest)\n",
    "k_scores[k] = metrics.accuracy_score(ytest, y_pred)\n",
    "\n",
    "k=20\n",
    "knn = KNeighborsClassifier(n_neighbors=k)\n",
    "knn.fit(Xtrn, ytrn)\n",
    "y_pred = knn.predict(Xtest)\n",
    "k_scores[k] = metrics.accuracy_score(ytest, y_pred)\n",
    "\n",
    "k=50\n",
    "knn = KNeighborsClassifier(n_neighbors=k)\n",
    "knn.fit(Xtrn, ytrn)\n",
    "y_pred = knn.predict(Xtest)\n",
    "k_scores[k] = metrics.accuracy_score(ytest, y_pred)\n",
    "\n",
    "k=100\n",
    "knn = KNeighborsClassifier(n_neighbors=k)\n",
    "knn.fit(Xtrn, ytrn)\n",
    "y_pred = knn.predict(Xtest)\n",
    "k_scores[k] = metrics.accuracy_score(ytest, y_pred)\n",
    "\n",
    "k=200\n",
    "knn = KNeighborsClassifier(n_neighbors=k)\n",
    "knn.fit(Xtrn, ytrn)\n",
    "y_pred = knn.predict(Xtest)\n",
    "k_scores[k] = metrics.accuracy_score(ytest, y_pred)\n",
    "\n",
    "print(k_scores)  "
   ]
  }
 ],
 "metadata": {
  "kernelspec": {
   "display_name": "Python 3",
   "language": "python",
   "name": "python3"
  },
  "language_info": {
   "codemirror_mode": {
    "name": "ipython",
    "version": 3
   },
   "file_extension": ".py",
   "mimetype": "text/x-python",
   "name": "python",
   "nbconvert_exporter": "python",
   "pygments_lexer": "ipython3",
   "version": "3.6.0"
  },
  "latex_envs": {
   "LaTeX_envs_menu_present": true,
   "autocomplete": true,
   "bibliofile": "biblio.bib",
   "cite_by": "apalike",
   "current_citInitial": 1,
   "eqLabelWithNumbers": true,
   "eqNumInitial": 1,
   "hotkeys": {
    "equation": "Ctrl-E",
    "itemize": "Ctrl-I"
   },
   "labels_anchors": false,
   "latex_user_defs": false,
   "report_style_numbering": false,
   "user_envs_cfg": false
  }
 },
 "nbformat": 4,
 "nbformat_minor": 2
}
