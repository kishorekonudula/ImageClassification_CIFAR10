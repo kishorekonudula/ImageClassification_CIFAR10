{
 "cells": [
  {
   "cell_type": "code",
   "execution_count": 6,
   "metadata": {
    "collapsed": true
   },
   "outputs": [],
   "source": [
    "# python modules\n",
    "import sys\n",
    "from os import path\n",
    "import numpy as np\n",
    "import pickle"
   ]
  },
  {
   "cell_type": "code",
   "execution_count": 7,
   "metadata": {
    "collapsed": true
   },
   "outputs": [],
   "source": [
    "# my modules\n",
    "sys.path.append(path.abspath('/Users/susmitadatta/Metis/Proj03/CIFAR_10/Models'))\n",
    "sys.path.append(path.abspath('/Users/susmitadatta/Metis/Proj03/CIFAR_10/'))\n",
    "import data_transform_module as dtm"
   ]
  },
  {
   "cell_type": "code",
   "execution_count": 8,
   "metadata": {
    "collapsed": false
   },
   "outputs": [
    {
     "name": "stdout",
     "output_type": "stream",
     "text": [
      "check_results.ipynb svc_lin_pca10.p     svc_rbf_pca10.p     svm_selection.txt\r\n",
      "iris_svc.p          svc_lin_pca100.p    svc_rbf_pca100.p    viz_results.ipynb\r\n"
     ]
    }
   ],
   "source": [
    "!ls"
   ]
  },
  {
   "cell_type": "code",
   "execution_count": 9,
   "metadata": {
    "collapsed": false
   },
   "outputs": [
    {
     "name": "stdout",
     "output_type": "stream",
     "text": [
      "/Users/susmitadatta/Metis/Proj03/CIFAR_10/Models/SelectionResults\r\n"
     ]
    }
   ],
   "source": [
    "!pwd"
   ]
  },
  {
   "cell_type": "code",
   "execution_count": 13,
   "metadata": {
    "collapsed": true
   },
   "outputs": [],
   "source": [
    "path = \"/Users/susmitadatta/Metis/Proj03/CIFAR_10/Models/SelectionResults/\""
   ]
  },
  {
   "cell_type": "code",
   "execution_count": 14,
   "metadata": {
    "collapsed": false
   },
   "outputs": [
    {
     "data": {
      "text/plain": [
       "{'C': [1, 0.5, 0.1],\n",
       " 'meanAcc': [0.53007987838206672, 0.50545966436964707, 0.43707953487333745]}"
      ]
     },
     "execution_count": 14,
     "metadata": {},
     "output_type": "execute_result"
    }
   ],
   "source": [
    "svc_lin_pca100 = dtm.unpickleSomething(path, 'svc_lin_pca100.p')\n",
    "svc_lin_pca100"
   ]
  },
  {
   "cell_type": "code",
   "execution_count": 16,
   "metadata": {
    "collapsed": false
   },
   "outputs": [
    {
     "data": {
      "text/plain": [
       "{'C': [1, 0.5, 0.1],\n",
       " 'meanAcc': [0.53007987838206672, 0.50545966436964707, 0.43707953487333745]}"
      ]
     },
     "execution_count": 16,
     "metadata": {},
     "output_type": "execute_result"
    }
   ],
   "source": [
    "svc_rbf_pca100 = dtm.unpickleSomething(path, 'svc_rbf_pca100.p')\n",
    "svc_rbf_pca100"
   ]
  },
  {
   "cell_type": "code",
   "execution_count": 17,
   "metadata": {
    "collapsed": false
   },
   "outputs": [
    {
     "data": {
      "text/plain": [
       "{'C': [1, 0.5, 0.1],\n",
       " 'meanAcc': [0.37392005392438915, 0.35190030421286694, 0.26295826068879863]}"
      ]
     },
     "execution_count": 17,
     "metadata": {},
     "output_type": "execute_result"
    }
   ],
   "source": [
    "svc_lin_pca10 = dtm.unpickleSomething(path, 'svc_lin_pca10.p')\n",
    "svc_lin_pca10"
   ]
  },
  {
   "cell_type": "code",
   "execution_count": 18,
   "metadata": {
    "collapsed": false
   },
   "outputs": [
    {
     "data": {
      "text/plain": [
       "{'C': [1, 0.5, 0.1],\n",
       " 'meanAcc': [0.37392005392438915, 0.35190030421286694, 0.26295826068879863]}"
      ]
     },
     "execution_count": 18,
     "metadata": {},
     "output_type": "execute_result"
    }
   ],
   "source": [
    "svc_rbf_pca10 = dtm.unpickleSomething(path, 'svc_rbf_pca10.p')\n",
    "svc_rbf_pca10"
   ]
  },
  {
   "cell_type": "code",
   "execution_count": null,
   "metadata": {
    "collapsed": true
   },
   "outputs": [],
   "source": []
  }
 ],
 "metadata": {
  "kernelspec": {
   "display_name": "Python 3",
   "language": "python",
   "name": "python3"
  },
  "language_info": {
   "codemirror_mode": {
    "name": "ipython",
    "version": 3
   },
   "file_extension": ".py",
   "mimetype": "text/x-python",
   "name": "python",
   "nbconvert_exporter": "python",
   "pygments_lexer": "ipython3",
   "version": "3.6.0"
  },
  "latex_envs": {
   "LaTeX_envs_menu_present": true,
   "autocomplete": true,
   "bibliofile": "biblio.bib",
   "cite_by": "apalike",
   "current_citInitial": 1,
   "eqLabelWithNumbers": true,
   "eqNumInitial": 1,
   "hotkeys": {
    "equation": "Ctrl-E",
    "itemize": "Ctrl-I"
   },
   "labels_anchors": false,
   "latex_user_defs": false,
   "report_style_numbering": false,
   "user_envs_cfg": false
  }
 },
 "nbformat": 4,
 "nbformat_minor": 2
}
